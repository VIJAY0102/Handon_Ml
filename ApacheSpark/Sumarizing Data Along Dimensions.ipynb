{
 "cells": [
  {
   "cell_type": "code",
   "execution_count": 1,
   "metadata": {},
   "outputs": [],
   "source": [
    "dogersData = \"../DataSet/Dodgers.data\"\n",
    "dogersEvent = \"../DataSet/Dodgers.events\"\n",
    "dogersDRDD = sc.textFile(dogersData)\n",
    "dogersERDD = sc.textFile(dogersEvent)"
   ]
  },
  {
   "cell_type": "code",
   "execution_count": 2,
   "metadata": {},
   "outputs": [],
   "source": [
    "from datetime import datetime"
   ]
  },
  {
   "cell_type": "code",
   "execution_count": 3,
   "metadata": {},
   "outputs": [],
   "source": [
    "# we can also use csv and StringIO module which we see in Transforming and Cleaning Unstructured Data jupyter notebook refer it.\n",
    "def parseDogersDataRdd(row):\n",
    "    reader = row.split(\",\")\n",
    "    reader[0] = datetime.strptime(reader[0], \"%m/%d/%Y %H:%M\")\n",
    "    reader[1] = int(reader[1])\n",
    "    return tuple(reader)"
   ]
  },
  {
   "cell_type": "code",
   "execution_count": 4,
   "metadata": {},
   "outputs": [
    {
     "data": {
      "text/plain": [
       "[(datetime.datetime(2005, 4, 10, 0, 0), -1),\n",
       " (datetime.datetime(2005, 4, 10, 0, 5), -1),\n",
       " (datetime.datetime(2005, 4, 10, 0, 10), -1),\n",
       " (datetime.datetime(2005, 4, 10, 0, 15), -1),\n",
       " (datetime.datetime(2005, 4, 10, 0, 20), -1)]"
      ]
     },
     "execution_count": 4,
     "metadata": {},
     "output_type": "execute_result"
    }
   ],
   "source": [
    "dogersDRDD2 = dogersDRDD.map(parseDogersDataRdd)\n",
    "dogersDRDD2.take(5)"
   ]
  },
  {
   "cell_type": "code",
   "execution_count": 25,
   "metadata": {},
   "outputs": [],
   "source": [
    "#summarizing a Pair RDD by reducebykey method\n",
    "newDogersDRDD = dogersDRDD2.map(lambda x: (x[0].date(), x[1]))\\\n",
    "                            .reduceByKey(lambda x, y: x + y)"
   ]
  },
  {
   "cell_type": "code",
   "execution_count": 26,
   "metadata": {},
   "outputs": [
    {
     "data": {
      "text/plain": [
       "[(datetime.date(2005, 4, 10), -288),\n",
       " (datetime.date(2005, 10, 1), -260),\n",
       " (datetime.date(2005, 6, 28), -96),\n",
       " (datetime.date(2005, 7, 4), 328),\n",
       " (datetime.date(2005, 7, 12), 1204),\n",
       " (datetime.date(2005, 5, 23), 2173),\n",
       " (datetime.date(2005, 9, 17), 2426),\n",
       " (datetime.date(2005, 9, 10), 2851),\n",
       " (datetime.date(2005, 6, 27), 2907),\n",
       " (datetime.date(2005, 7, 10), 3518)]"
      ]
     },
     "execution_count": 26,
     "metadata": {},
     "output_type": "execute_result"
    }
   ],
   "source": [
    "# For Ascending order just mention the column which u want to sort in lambda function\n",
    "# so lambda Function consider it as such\n",
    "newDogersDRDD.sortBy(lambda x: x[1]).take(10)"
   ]
  },
  {
   "cell_type": "code",
   "execution_count": 27,
   "metadata": {},
   "outputs": [
    {
     "data": {
      "text/plain": [
       "[(datetime.date(2005, 7, 28), 7661),\n",
       " (datetime.date(2005, 7, 29), 7499),\n",
       " (datetime.date(2005, 8, 12), 7287),\n",
       " (datetime.date(2005, 7, 27), 7238),\n",
       " (datetime.date(2005, 9, 23), 7175),\n",
       " (datetime.date(2005, 7, 26), 7163),\n",
       " (datetime.date(2005, 5, 20), 7119),\n",
       " (datetime.date(2005, 8, 11), 7110),\n",
       " (datetime.date(2005, 9, 8), 7107),\n",
       " (datetime.date(2005, 9, 7), 7082)]"
      ]
     },
     "execution_count": 27,
     "metadata": {},
     "output_type": "execute_result"
    }
   ],
   "source": [
    "# For Ascending order just mention the column with negative sign in lambda function which u want to sort\n",
    "# here the +ve number becomes -ve and all -ve number becomes +ve.\n",
    "newDogersDRDD.sortBy(lambda x: -x[1]).take(10)"
   ]
  },
  {
   "cell_type": "code",
   "execution_count": 28,
   "metadata": {},
   "outputs": [
    {
     "data": {
      "text/plain": [
       "'04/12/05,13:10:00,16:23:00,55892,San Francisco,W 9-8�'"
      ]
     },
     "execution_count": 28,
     "metadata": {},
     "output_type": "execute_result"
    }
   ],
   "source": [
    "dogersERDD.first()"
   ]
  },
  {
   "cell_type": "code",
   "execution_count": 29,
   "metadata": {},
   "outputs": [],
   "source": [
    "def parseDogersEventRDD(row):\n",
    "    reader = row.split(\",\")\n",
    "    reader[0] = datetime.strptime(reader[0], \"%m/%d/%y\").date()\n",
    "    reader[4] = reader[4]\n",
    "    return (reader[0], reader[4])"
   ]
  },
  {
   "cell_type": "code",
   "execution_count": 30,
   "metadata": {},
   "outputs": [
    {
     "data": {
      "text/plain": [
       "(datetime.date(2005, 4, 12), 'San Francisco')"
      ]
     },
     "execution_count": 30,
     "metadata": {},
     "output_type": "execute_result"
    }
   ],
   "source": [
    "parseDogersEventRDD(dogersERDD.first())"
   ]
  },
  {
   "cell_type": "code",
   "execution_count": 31,
   "metadata": {},
   "outputs": [],
   "source": [
    "newDogersERDD2 = dogersERDD.map(parseDogersEventRDD)"
   ]
  },
  {
   "cell_type": "code",
   "execution_count": 32,
   "metadata": {},
   "outputs": [
    {
     "data": {
      "text/plain": [
       "(datetime.date(2005, 4, 12), 'San Francisco')"
      ]
     },
     "execution_count": 32,
     "metadata": {},
     "output_type": "execute_result"
    }
   ],
   "source": [
    "newDogersERDD2.first()"
   ]
  },
  {
   "cell_type": "code",
   "execution_count": 33,
   "metadata": {},
   "outputs": [],
   "source": [
    "newDogers = newDogersDRDD.leftOuterJoin(newDogersERDD2)"
   ]
  },
  {
   "cell_type": "code",
   "execution_count": 15,
   "metadata": {},
   "outputs": [
    {
     "data": {
      "text/plain": [
       "[(datetime.date(2005, 4, 11), (5062, None)),\n",
       " (datetime.date(2005, 4, 15), (6459, 'San Diego')),\n",
       " (datetime.date(2005, 4, 17), (5322, 'San Diego')),\n",
       " (datetime.date(2005, 4, 19), (6049, None)),\n",
       " (datetime.date(2005, 4, 21), (5977, None)),\n",
       " (datetime.date(2005, 4, 22), (6038, None)),\n",
       " (datetime.date(2005, 4, 23), (5366, None)),\n",
       " (datetime.date(2005, 4, 24), (4319, None)),\n",
       " (datetime.date(2005, 4, 25), (6280, 'Arizona')),\n",
       " (datetime.date(2005, 4, 30), (6090, 'Colorado'))]"
      ]
     },
     "execution_count": 15,
     "metadata": {},
     "output_type": "execute_result"
    }
   ],
   "source": [
    "newDogers.take(10)"
   ]
  },
  {
   "cell_type": "code",
   "execution_count": 34,
   "metadata": {},
   "outputs": [],
   "source": [
    "def regOrGame(row):\n",
    "    if row[1][1] == None:\n",
    "        return (row[0], row[1][1], \"Regular Day\", row[1][0])\n",
    "    else:\n",
    "        return (row[0], row[1][1], \"Game Day\", row[1][0])\n",
    "\n",
    "newDogers2 = newDogers.map(regOrGame)"
   ]
  },
  {
   "cell_type": "code",
   "execution_count": 36,
   "metadata": {},
   "outputs": [
    {
     "data": {
      "text/plain": [
       "[(datetime.date(2005, 4, 11), None, 'Regular Day', 5062),\n",
       " (datetime.date(2005, 4, 15), 'San Diego', 'Game Day', 6459),\n",
       " (datetime.date(2005, 4, 17), 'San Diego', 'Game Day', 5322),\n",
       " (datetime.date(2005, 4, 19), None, 'Regular Day', 6049),\n",
       " (datetime.date(2005, 4, 21), None, 'Regular Day', 5977)]"
      ]
     },
     "execution_count": 36,
     "metadata": {},
     "output_type": "execute_result"
    }
   ],
   "source": [
    "newDogers2.take(5)"
   ]
  },
  {
   "cell_type": "code",
   "execution_count": 39,
   "metadata": {},
   "outputs": [],
   "source": [
    "newDogers2 = newDogers2.sortBy(lambda x: -x[3])"
   ]
  },
  {
   "cell_type": "code",
   "execution_count": 46,
   "metadata": {},
   "outputs": [
    {
     "data": {
      "text/plain": [
       "[(datetime.date(2005, 7, 28), 'Cincinnati', 'Game Day', 7661),\n",
       " (datetime.date(2005, 7, 29), 'St. Louis', 'Game Day', 7499),\n",
       " (datetime.date(2005, 8, 12), 'NY Mets', 'Game Day', 7287),\n",
       " (datetime.date(2005, 7, 27), 'Cincinnati', 'Game Day', 7238),\n",
       " (datetime.date(2005, 9, 23), 'Pittsburgh', 'Game Day', 7175),\n",
       " (datetime.date(2005, 7, 26), 'Cincinnati', 'Game Day', 7163),\n",
       " (datetime.date(2005, 5, 20), 'LA Angels', 'Game Day', 7119),\n",
       " (datetime.date(2005, 8, 11), 'Philadelphia', 'Game Day', 7110),\n",
       " (datetime.date(2005, 9, 8), None, 'Regular Day', 7107),\n",
       " (datetime.date(2005, 9, 7), 'San Francisco', 'Game Day', 7082)]"
      ]
     },
     "execution_count": 46,
     "metadata": {},
     "output_type": "execute_result"
    }
   ],
   "source": [
    "newDogers2.take(10)"
   ]
  },
  {
   "cell_type": "markdown",
   "metadata": {},
   "source": [
    "# CombineByKey"
   ]
  },
  {
   "cell_type": "code",
   "execution_count": 53,
   "metadata": {},
   "outputs": [
    {
     "data": {
      "text/plain": [
       "[('Regular Day', 5411.329787234043), ('Game Day', 5948.604938271605)]"
      ]
     },
     "execution_count": 53,
     "metadata": {},
     "output_type": "execute_result"
    }
   ],
   "source": [
    "newDogers2.map(lambda x: (x[2], x[3]))\\\n",
    "            .combineByKey(lambda val: (val, 1), \\\n",
    "                         lambda x, val: (x[0] + val, x[1] + 1), \\\n",
    "                         lambda x1, x2: (x1[0] + x2[0], x1[1] + x2[1]))\\\n",
    "            .mapValues(lambda x: x[0] / x[1]).collect()"
   ]
  },
  {
   "cell_type": "code",
   "execution_count": null,
   "metadata": {},
   "outputs": [],
   "source": []
  },
  {
   "cell_type": "code",
   "execution_count": null,
   "metadata": {},
   "outputs": [],
   "source": []
  }
 ],
 "metadata": {
  "kernelspec": {
   "display_name": "Python 3",
   "language": "python",
   "name": "python3"
  },
  "language_info": {
   "codemirror_mode": {
    "name": "ipython",
    "version": 3
   },
   "file_extension": ".py",
   "mimetype": "text/x-python",
   "name": "python",
   "nbconvert_exporter": "python",
   "pygments_lexer": "ipython3",
   "version": "3.6.3"
  }
 },
 "nbformat": 4,
 "nbformat_minor": 2
}
