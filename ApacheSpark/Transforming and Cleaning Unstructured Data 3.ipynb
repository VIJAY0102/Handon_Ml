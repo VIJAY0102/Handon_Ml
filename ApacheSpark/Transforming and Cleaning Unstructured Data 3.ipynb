{
 "cells": [
  {
   "cell_type": "code",
   "execution_count": 1,
   "metadata": {},
   "outputs": [
    {
     "data": {
      "text/html": [
       "\n",
       "        <div>\n",
       "            <p><b>SparkContext</b></p>\n",
       "\n",
       "            <p><a href=\"http://178.16.1.110:4040\">Spark UI</a></p>\n",
       "\n",
       "            <dl>\n",
       "              <dt>Version</dt>\n",
       "                <dd><code>v2.2.1</code></dd>\n",
       "              <dt>Master</dt>\n",
       "                <dd><code>local[*]</code></dd>\n",
       "              <dt>AppName</dt>\n",
       "                <dd><code>PySparkShell</code></dd>\n",
       "            </dl>\n",
       "        </div>\n",
       "        "
      ],
      "text/plain": [
       "<SparkContext master=local[*] appName=PySparkShell>"
      ]
     },
     "execution_count": 1,
     "metadata": {},
     "output_type": "execute_result"
    }
   ],
   "source": [
    "sc"
   ]
  },
  {
   "cell_type": "code",
   "execution_count": 2,
   "metadata": {},
   "outputs": [],
   "source": [
    "filePath = \"../DataSet/NYPD_7_Major_Felony_Incidents-Copy1.csv\""
   ]
  },
  {
   "cell_type": "code",
   "execution_count": 3,
   "metadata": {},
   "outputs": [],
   "source": [
    "dataRdd = sc.textFile(filePath)"
   ]
  },
  {
   "cell_type": "code",
   "execution_count": 4,
   "metadata": {},
   "outputs": [
    {
     "data": {
      "text/plain": [
       "../DataSet/NYPD_7_Major_Felony_Incidents-Copy1.csv MapPartitionsRDD[1] at textFile at NativeMethodAccessorImpl.java:0"
      ]
     },
     "execution_count": 4,
     "metadata": {},
     "output_type": "execute_result"
    }
   ],
   "source": [
    "dataRdd"
   ]
  },
  {
   "cell_type": "code",
   "execution_count": 5,
   "metadata": {},
   "outputs": [
    {
     "data": {
      "text/plain": [
       "'OBJECTID,Identifier,Occurrence Date,Day of Week,Occurrence Month,Occurrence Day,Occurrence Year,Occurrence Hour,CompStat Month,CompStat Day,CompStat Year,Offense,Offense Classification,Sector,Precinct,Borough,Jurisdiction,XCoordinate,YCoordinate,Location 1'"
      ]
     },
     "execution_count": 5,
     "metadata": {},
     "output_type": "execute_result"
    }
   ],
   "source": [
    "header = dataRdd.first()\n",
    "header"
   ]
  },
  {
   "cell_type": "code",
   "execution_count": 6,
   "metadata": {},
   "outputs": [],
   "source": [
    "dataRdd2 = dataRdd.filter(lambda records: records!=header)"
   ]
  },
  {
   "cell_type": "code",
   "execution_count": 7,
   "metadata": {},
   "outputs": [
    {
     "data": {
      "text/plain": [
       "'1,f070032d,09/06/1940 07:30:00 PM,Friday,Sep,6,1940,19,9,7,2010,BURGLARY,FELONY,D,66,BROOKLYN,N.Y. POLICE DEPT,987478,166141,\"(40.6227027620001, -73.9883732929999)\"'"
      ]
     },
     "execution_count": 7,
     "metadata": {},
     "output_type": "execute_result"
    }
   ],
   "source": [
    "dataRdd2.first()"
   ]
  },
  {
   "cell_type": "code",
   "execution_count": 8,
   "metadata": {},
   "outputs": [
    {
     "data": {
      "text/plain": [
       "['OBJECTID',\n",
       " 'Identifier',\n",
       " 'Occurrence_Date',\n",
       " 'Day_of_Week',\n",
       " 'Occurrence_Month',\n",
       " 'Occurrence_Day',\n",
       " 'Occurrence_Year',\n",
       " 'Occurrence_Hour',\n",
       " 'CompStat_Month',\n",
       " 'CompStat_Day',\n",
       " 'CompStat_Year',\n",
       " 'Offense',\n",
       " 'Offense_Classification',\n",
       " 'Sector',\n",
       " 'Precinct',\n",
       " 'Borough',\n",
       " 'Jurisdiction',\n",
       " 'XCoordinate',\n",
       " 'YCoordinate',\n",
       " 'Location_1']"
      ]
     },
     "execution_count": 8,
     "metadata": {},
     "output_type": "execute_result"
    }
   ],
   "source": [
    "headerList = header.replace(' ', '_').split(',')\n",
    "headerList"
   ]
  },
  {
   "cell_type": "markdown",
   "metadata": {},
   "source": [
    "## Transforming unstructured to structured one\n",
    "* Using NamedTuple   "
   ]
  },
  {
   "cell_type": "code",
   "execution_count": 9,
   "metadata": {},
   "outputs": [
    {
     "name": "stdout",
     "output_type": "stream",
     "text": [
      "from builtins import property as _property, tuple as _tuple\n",
      "from operator import itemgetter as _itemgetter\n",
      "from collections import OrderedDict\n",
      "\n",
      "class Crime(tuple):\n",
      "    'Crime(OBJECTID, Identifier, Occurrence_Date, Day_of_Week, Occurrence_Month, Occurrence_Day, Occurrence_Year, Occurrence_Hour, CompStat_Month, CompStat_Day, CompStat_Year, Offense, Offense_Classification, Sector, Precinct, Borough, Jurisdiction, XCoordinate, YCoordinate, Location_1)'\n",
      "\n",
      "    __slots__ = ()\n",
      "\n",
      "    _fields = ('OBJECTID', 'Identifier', 'Occurrence_Date', 'Day_of_Week', 'Occurrence_Month', 'Occurrence_Day', 'Occurrence_Year', 'Occurrence_Hour', 'CompStat_Month', 'CompStat_Day', 'CompStat_Year', 'Offense', 'Offense_Classification', 'Sector', 'Precinct', 'Borough', 'Jurisdiction', 'XCoordinate', 'YCoordinate', 'Location_1')\n",
      "\n",
      "    def __new__(_cls, OBJECTID, Identifier, Occurrence_Date, Day_of_Week, Occurrence_Month, Occurrence_Day, Occurrence_Year, Occurrence_Hour, CompStat_Month, CompStat_Day, CompStat_Year, Offense, Offense_Classification, Sector, Precinct, Borough, Jurisdiction, XCoordinate, YCoordinate, Location_1):\n",
      "        'Create new instance of Crime(OBJECTID, Identifier, Occurrence_Date, Day_of_Week, Occurrence_Month, Occurrence_Day, Occurrence_Year, Occurrence_Hour, CompStat_Month, CompStat_Day, CompStat_Year, Offense, Offense_Classification, Sector, Precinct, Borough, Jurisdiction, XCoordinate, YCoordinate, Location_1)'\n",
      "        return _tuple.__new__(_cls, (OBJECTID, Identifier, Occurrence_Date, Day_of_Week, Occurrence_Month, Occurrence_Day, Occurrence_Year, Occurrence_Hour, CompStat_Month, CompStat_Day, CompStat_Year, Offense, Offense_Classification, Sector, Precinct, Borough, Jurisdiction, XCoordinate, YCoordinate, Location_1))\n",
      "\n",
      "    @classmethod\n",
      "    def _make(cls, iterable, new=tuple.__new__, len=len):\n",
      "        'Make a new Crime object from a sequence or iterable'\n",
      "        result = new(cls, iterable)\n",
      "        if len(result) != 20:\n",
      "            raise TypeError('Expected 20 arguments, got %d' % len(result))\n",
      "        return result\n",
      "\n",
      "    def _replace(_self, **kwds):\n",
      "        'Return a new Crime object replacing specified fields with new values'\n",
      "        result = _self._make(map(kwds.pop, ('OBJECTID', 'Identifier', 'Occurrence_Date', 'Day_of_Week', 'Occurrence_Month', 'Occurrence_Day', 'Occurrence_Year', 'Occurrence_Hour', 'CompStat_Month', 'CompStat_Day', 'CompStat_Year', 'Offense', 'Offense_Classification', 'Sector', 'Precinct', 'Borough', 'Jurisdiction', 'XCoordinate', 'YCoordinate', 'Location_1'), _self))\n",
      "        if kwds:\n",
      "            raise ValueError('Got unexpected field names: %r' % list(kwds))\n",
      "        return result\n",
      "\n",
      "    def __repr__(self):\n",
      "        'Return a nicely formatted representation string'\n",
      "        return self.__class__.__name__ + '(OBJECTID=%r, Identifier=%r, Occurrence_Date=%r, Day_of_Week=%r, Occurrence_Month=%r, Occurrence_Day=%r, Occurrence_Year=%r, Occurrence_Hour=%r, CompStat_Month=%r, CompStat_Day=%r, CompStat_Year=%r, Offense=%r, Offense_Classification=%r, Sector=%r, Precinct=%r, Borough=%r, Jurisdiction=%r, XCoordinate=%r, YCoordinate=%r, Location_1=%r)' % self\n",
      "\n",
      "    def _asdict(self):\n",
      "        'Return a new OrderedDict which maps field names to their values.'\n",
      "        return OrderedDict(zip(self._fields, self))\n",
      "\n",
      "    def __getnewargs__(self):\n",
      "        'Return self as a plain tuple.  Used by copy and pickle.'\n",
      "        return tuple(self)\n",
      "\n",
      "    OBJECTID = _property(_itemgetter(0), doc='Alias for field number 0')\n",
      "\n",
      "    Identifier = _property(_itemgetter(1), doc='Alias for field number 1')\n",
      "\n",
      "    Occurrence_Date = _property(_itemgetter(2), doc='Alias for field number 2')\n",
      "\n",
      "    Day_of_Week = _property(_itemgetter(3), doc='Alias for field number 3')\n",
      "\n",
      "    Occurrence_Month = _property(_itemgetter(4), doc='Alias for field number 4')\n",
      "\n",
      "    Occurrence_Day = _property(_itemgetter(5), doc='Alias for field number 5')\n",
      "\n",
      "    Occurrence_Year = _property(_itemgetter(6), doc='Alias for field number 6')\n",
      "\n",
      "    Occurrence_Hour = _property(_itemgetter(7), doc='Alias for field number 7')\n",
      "\n",
      "    CompStat_Month = _property(_itemgetter(8), doc='Alias for field number 8')\n",
      "\n",
      "    CompStat_Day = _property(_itemgetter(9), doc='Alias for field number 9')\n",
      "\n",
      "    CompStat_Year = _property(_itemgetter(10), doc='Alias for field number 10')\n",
      "\n",
      "    Offense = _property(_itemgetter(11), doc='Alias for field number 11')\n",
      "\n",
      "    Offense_Classification = _property(_itemgetter(12), doc='Alias for field number 12')\n",
      "\n",
      "    Sector = _property(_itemgetter(13), doc='Alias for field number 13')\n",
      "\n",
      "    Precinct = _property(_itemgetter(14), doc='Alias for field number 14')\n",
      "\n",
      "    Borough = _property(_itemgetter(15), doc='Alias for field number 15')\n",
      "\n",
      "    Jurisdiction = _property(_itemgetter(16), doc='Alias for field number 16')\n",
      "\n",
      "    XCoordinate = _property(_itemgetter(17), doc='Alias for field number 17')\n",
      "\n",
      "    YCoordinate = _property(_itemgetter(18), doc='Alias for field number 18')\n",
      "\n",
      "    Location_1 = _property(_itemgetter(19), doc='Alias for field number 19')\n",
      "\n",
      "\n"
     ]
    }
   ],
   "source": [
    "# as we extract the header from RDD\n",
    "# now create named tuple object\n",
    "from collections import namedtuple\n",
    "Crime = namedtuple('Crime', headerList, verbose=True)"
   ]
  },
  {
   "cell_type": "code",
   "execution_count": 10,
   "metadata": {},
   "outputs": [
    {
     "data": {
      "text/plain": [
       "collections.Crime"
      ]
     },
     "execution_count": 10,
     "metadata": {},
     "output_type": "execute_result"
    }
   ],
   "source": [
    "Crime"
   ]
  },
  {
   "cell_type": "code",
   "execution_count": 11,
   "metadata": {},
   "outputs": [],
   "source": [
    "import csv\n",
    "# for Python 2 importing StringIo is as follows\n",
    "# from StringIO import StringIO\n",
    "from io import StringIO\n",
    "def parse(row):\n",
    "    \"\"\"\n",
    "    parse method is used to create Crime object which is an namedTuple\n",
    "    \n",
    "    \"\"\"\n",
    "    record = csv.reader(StringIO(row))\n",
    "    row = record.__next__()\n",
    "    return Crime(*row)"
   ]
  },
  {
   "cell_type": "code",
   "execution_count": 12,
   "metadata": {},
   "outputs": [],
   "source": [
    "dataRdd3 = dataRdd2.map(parse)"
   ]
  },
  {
   "cell_type": "code",
   "execution_count": 13,
   "metadata": {},
   "outputs": [
    {
     "data": {
      "text/plain": [
       "[Crime(OBJECTID='1', Identifier='f070032d', Occurrence_Date='09/06/1940 07:30:00 PM', Day_of_Week='Friday', Occurrence_Month='Sep', Occurrence_Day='6', Occurrence_Year='1940', Occurrence_Hour='19', CompStat_Month='9', CompStat_Day='7', CompStat_Year='2010', Offense='BURGLARY', Offense_Classification='FELONY', Sector='D', Precinct='66', Borough='BROOKLYN', Jurisdiction='N.Y. POLICE DEPT', XCoordinate='987478', YCoordinate='166141', Location_1='(40.6227027620001, -73.9883732929999)'),\n",
       " Crime(OBJECTID='2', Identifier='c6245d4d', Occurrence_Date='12/14/1968 12:20:00 AM', Day_of_Week='Saturday', Occurrence_Month='Dec', Occurrence_Day='14', Occurrence_Year='1968', Occurrence_Hour='0', CompStat_Month='12', CompStat_Day='14', CompStat_Year='2008', Offense='GRAND LARCENY', Offense_Classification='FELONY', Sector='G', Precinct='28', Borough='MANHATTAN', Jurisdiction='N.Y. POLICE DEPT', XCoordinate='996470', YCoordinate='232106', Location_1='(40.8037530600001, -73.955861904)'),\n",
       " Crime(OBJECTID='3', Identifier='716dbc6f', Occurrence_Date='10/30/1970 03:30:00 PM', Day_of_Week='Friday', Occurrence_Month='Oct', Occurrence_Day='30', Occurrence_Year='1970', Occurrence_Hour='15', CompStat_Month='10', CompStat_Day='31', CompStat_Year='2008', Offense='BURGLARY', Offense_Classification='FELONY', Sector='H', Precinct='84', Borough='BROOKLYN', Jurisdiction='N.Y. POLICE DEPT', XCoordinate='986508', YCoordinate='190249', Location_1='(40.688874254, -73.9918594329999)'),\n",
       " Crime(OBJECTID='4', Identifier='638cd7b7', Occurrence_Date='07/18/1972 11:00:00 PM', Day_of_Week='Tuesday', Occurrence_Month='Jul', Occurrence_Day='18', Occurrence_Year='1972', Occurrence_Hour='23', CompStat_Month='7', CompStat_Day='19', CompStat_Year='2012', Offense='GRAND LARCENY OF MOTOR VEHICLE', Offense_Classification='FELONY', Sector='F', Precinct='73', Borough='BROOKLYN', Jurisdiction='N.Y. POLICE DEPT', XCoordinate='1005876', YCoordinate='182440', Location_1='(40.6674141890001, -73.9220463899999)'),\n",
       " Crime(OBJECTID='5', Identifier='6e410287', Occurrence_Date='05/21/1987 12:01:00 AM', Day_of_Week='Thursday', Occurrence_Month='May', Occurrence_Day='21', Occurrence_Year='1987', Occurrence_Hour='0', CompStat_Month='5', CompStat_Day='28', CompStat_Year='2009', Offense='GRAND LARCENY', Offense_Classification='FELONY', Sector='K', Precinct='75', Borough='BROOKLYN', Jurisdiction='N.Y. POLICE DEPT', XCoordinate='1017958', YCoordinate='182266', Location_1='(40.6668988440001, -73.878495425)'),\n",
       " Crime(OBJECTID='6', Identifier='7eebfe3c', Occurrence_Date='02/01/1990 09:00:00 AM', Day_of_Week='Thursday', Occurrence_Month='Feb', Occurrence_Day='1', Occurrence_Year='1990', Occurrence_Hour='9', CompStat_Month='9', CompStat_Day='17', CompStat_Year='2014', Offense='GRAND LARCENY', Offense_Classification='FELONY', Sector='K', Precinct='105', Borough='QUEENS', Jurisdiction='N.Y. POLICE DEPT', XCoordinate='1058407', YCoordinate='204788', Location_1='(40.7284698170001, -73.7324430589999)'),\n",
       " Crime(OBJECTID='7', Identifier='da21f94f', Occurrence_Date='11/13/1990 12:01:00 AM', Day_of_Week='Tuesday', Occurrence_Month='Nov', Occurrence_Day='13', Occurrence_Year='1990', Occurrence_Hour='0', CompStat_Month='6', CompStat_Day='7', CompStat_Year='2007', Offense='GRAND LARCENY', Offense_Classification='FELONY', Sector='', Precinct='73', Borough='BROOKLYN', Jurisdiction='N.Y. HOUSING POLICE', XCoordinate='1010272', YCoordinate='183760', Location_1='(40.671025464, -73.906195082)'),\n",
       " Crime(OBJECTID='8', Identifier='87c99e8c', Occurrence_Date='02/02/1992 04:00:00 PM', Day_of_Week='Sunday', Occurrence_Month='Feb', Occurrence_Day='2', Occurrence_Year='1992', Occurrence_Hour='16', CompStat_Month='3', CompStat_Day='27', CompStat_Year='2012', Offense='GRAND LARCENY', Offense_Classification='FELONY', Sector='', Precinct='101', Borough='QUEENS', Jurisdiction='N.Y. POLICE DEPT', XCoordinate='1053678', YCoordinate='159044', Location_1='(40.6029515910001, -73.749976261)'),\n",
       " Crime(OBJECTID='9', Identifier='495f57e1', Occurrence_Date='08/08/1994 06:00:00 PM', Day_of_Week='Monday', Occurrence_Month='Aug', Occurrence_Day='8', Occurrence_Year='1994', Occurrence_Hour='18', CompStat_Month='7', CompStat_Day='31', CompStat_Year='2008', Offense='RAPE', Offense_Classification='FELONY', Sector='A', Precinct='103', Borough='QUEENS', Jurisdiction='N.Y. POLICE DEPT', XCoordinate='1041749', YCoordinate='196938', Location_1='(40.707047475, -73.792611904)'),\n",
       " Crime(OBJECTID='10', Identifier='31c0b727', Occurrence_Date='10/26/1994 12:01:00 AM', Day_of_Week='Wednesday', Occurrence_Month='Oct', Occurrence_Day='26', Occurrence_Year='1994', Occurrence_Hour='0', CompStat_Month='6', CompStat_Day='4', CompStat_Year='2008', Offense='GRAND LARCENY', Offense_Classification='FELONY', Sector='D', Precinct='17', Borough='MANHATTAN', Jurisdiction='N.Y. POLICE DEPT', XCoordinate='992029', YCoordinate='213332', Location_1='(40.7522284, -73.971924858)')]"
      ]
     },
     "execution_count": 13,
     "metadata": {},
     "output_type": "execute_result"
    }
   ],
   "source": [
    "dataRdd3.take(10)"
   ]
  },
  {
   "cell_type": "code",
   "execution_count": 15,
   "metadata": {},
   "outputs": [
    {
     "data": {
      "text/plain": [
       "'BURGLARY'"
      ]
     },
     "execution_count": 15,
     "metadata": {},
     "output_type": "execute_result"
    }
   ],
   "source": [
    "dataRdd3.first().Offense"
   ]
  },
  {
   "cell_type": "code",
   "execution_count": null,
   "metadata": {},
   "outputs": [],
   "source": []
  }
 ],
 "metadata": {
  "kernelspec": {
   "display_name": "Python 3",
   "language": "python",
   "name": "python3"
  },
  "language_info": {
   "codemirror_mode": {
    "name": "ipython",
    "version": 3
   },
   "file_extension": ".py",
   "mimetype": "text/x-python",
   "name": "python",
   "nbconvert_exporter": "python",
   "pygments_lexer": "ipython3",
   "version": "3.6.3"
  }
 },
 "nbformat": 4,
 "nbformat_minor": 2
}
