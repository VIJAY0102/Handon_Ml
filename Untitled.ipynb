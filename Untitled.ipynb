{
 "cells": [
  {
   "cell_type": "code",
   "execution_count": 1,
   "metadata": {
    "collapsed": true
   },
   "outputs": [],
   "source": [
    "#Create a dic to convert each data point from char to int\n",
    "dicts = []\n",
    "codes = []\n",
    "codes.append('bcxfks')\n",
    "codes.append('fgys')\n",
    "codes.append('nbcgrpuewy')\n",
    "codes.append('tf')\n",
    "codes.append('alcyfmnps')\n",
    "codes.append('adfn')\n",
    "codes.append('cwd')\n",
    "codes.append('bn')\n",
    "codes.append('knbhgropuewy')\n",
    "codes.append('et')\n",
    "codes.append('bcuezr?')\n",
    "codes.append('fyks')\n",
    "codes.append('fyks')\n",
    "codes.append('nbcgopewy')\n",
    "codes.append('nbcgopewy')\n",
    "codes.append('pu')\n",
    "codes.append('nowy')\n",
    "codes.append('not')\n",
    "codes.append('ceflnpsz')\n",
    "codes.append('knbhrouwy')\n",
    "codes.append('acnsvy')\n",
    "codes.append('glmpuwd')\n",
    "for code in codes:\n",
    "    temp = {}\n",
    "    for i in range(0,len(code)):\n",
    "        temp[code[i]] = i\n",
    "    dicts.append(temp)"
   ]
  },
  {
   "cell_type": "code",
   "execution_count": 2,
   "metadata": {},
   "outputs": [
    {
     "data": {
      "text/plain": [
       "[{'b': 0, 'c': 1, 'f': 3, 'k': 4, 's': 5, 'x': 2},\n",
       " {'f': 0, 'g': 1, 's': 3, 'y': 2},\n",
       " {'b': 1,\n",
       "  'c': 2,\n",
       "  'e': 7,\n",
       "  'g': 3,\n",
       "  'n': 0,\n",
       "  'p': 5,\n",
       "  'r': 4,\n",
       "  'u': 6,\n",
       "  'w': 8,\n",
       "  'y': 9},\n",
       " {'f': 1, 't': 0},\n",
       " {'a': 0, 'c': 2, 'f': 4, 'l': 1, 'm': 5, 'n': 6, 'p': 7, 's': 8, 'y': 3},\n",
       " {'a': 0, 'd': 1, 'f': 2, 'n': 3},\n",
       " {'c': 0, 'd': 2, 'w': 1},\n",
       " {'b': 0, 'n': 1},\n",
       " {'b': 2,\n",
       "  'e': 9,\n",
       "  'g': 4,\n",
       "  'h': 3,\n",
       "  'k': 0,\n",
       "  'n': 1,\n",
       "  'o': 6,\n",
       "  'p': 7,\n",
       "  'r': 5,\n",
       "  'u': 8,\n",
       "  'w': 10,\n",
       "  'y': 11},\n",
       " {'e': 0, 't': 1},\n",
       " {'?': 6, 'b': 0, 'c': 1, 'e': 3, 'r': 5, 'u': 2, 'z': 4},\n",
       " {'f': 0, 'k': 2, 's': 3, 'y': 1},\n",
       " {'f': 0, 'k': 2, 's': 3, 'y': 1},\n",
       " {'b': 1, 'c': 2, 'e': 6, 'g': 3, 'n': 0, 'o': 4, 'p': 5, 'w': 7, 'y': 8},\n",
       " {'b': 1, 'c': 2, 'e': 6, 'g': 3, 'n': 0, 'o': 4, 'p': 5, 'w': 7, 'y': 8},\n",
       " {'p': 0, 'u': 1},\n",
       " {'n': 0, 'o': 1, 'w': 2, 'y': 3},\n",
       " {'n': 0, 'o': 1, 't': 2},\n",
       " {'c': 0, 'e': 1, 'f': 2, 'l': 3, 'n': 4, 'p': 5, 's': 6, 'z': 7},\n",
       " {'b': 2, 'h': 3, 'k': 0, 'n': 1, 'o': 5, 'r': 4, 'u': 6, 'w': 7, 'y': 8},\n",
       " {'a': 0, 'c': 1, 'n': 2, 's': 3, 'v': 4, 'y': 5},\n",
       " {'d': 6, 'g': 0, 'l': 1, 'm': 2, 'p': 3, 'u': 4, 'w': 5}]"
      ]
     },
     "execution_count": 2,
     "metadata": {},
     "output_type": "execute_result"
    }
   ],
   "source": [
    "\n",
    "for j in range(0,m):\n",
    "    for x in X_train:\n",
    "        x[j] = dicts[j][x[j]]"
   ]
  },
  {
   "cell_type": "code",
   "execution_count": null,
   "metadata": {
    "collapsed": true
   },
   "outputs": [],
   "source": []
  }
 ],
 "metadata": {
  "kernelspec": {
   "display_name": "Python 3",
   "language": "python",
   "name": "python3"
  },
  "language_info": {
   "codemirror_mode": {
    "name": "ipython",
    "version": 3
   },
   "file_extension": ".py",
   "mimetype": "text/x-python",
   "name": "python",
   "nbconvert_exporter": "python",
   "pygments_lexer": "ipython3",
   "version": "3.6.3"
  }
 },
 "nbformat": 4,
 "nbformat_minor": 2
}
